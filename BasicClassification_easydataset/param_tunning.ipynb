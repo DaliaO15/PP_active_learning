{
 "cells": [
  {
   "cell_type": "code",
   "execution_count": 1,
   "metadata": {},
   "outputs": [],
   "source": [
    "%load_ext autoreload\n",
    "%autoreload 2\n",
    "\n",
    "from pandas import read_excel\n",
    "import csv\n",
    "import pandas as pd\n",
    "import numpy as np\n",
    "import seaborn as sns\n",
    "import matplotlib.pyplot as plt\n",
    "\n",
    "from sklearn.model_selection import cross_val_score, KFold, train_test_split, StratifiedKFold, cross_validate\n",
    "from sklearn.metrics import confusion_matrix, mean_squared_error, classification_report, f1_score, mean_squared_log_error, recall_score, accuracy_score\n",
    "from sklearn.decomposition import PCA\n",
    "from sklearn.neighbors import KNeighborsClassifier\n",
    "from sklearn.linear_model import LinearRegression, Ridge, Lasso, LogisticRegression\n",
    "from sklearn.ensemble import RandomForestClassifier, AdaBoostClassifier, RandomForestRegressor, AdaBoostRegressor, BaggingRegressor\n",
    "from sklearn import svm, tree \n",
    "from sklearn.cluster import KMeans\n",
    "from sklearn.tree import DecisionTreeClassifier, DecisionTreeRegressor\n",
    "from sklearn.preprocessing import MinMaxScaler, StandardScaler\n",
    "\n",
    "from imblearn.over_sampling import SMOTE, ADASYN\n",
    "from imblearn.under_sampling import EditedNearestNeighbours, ClusterCentroids, RandomUnderSampler \n",
    "from collections import Counter\n",
    "\n",
    "import sys\n",
    "sys.path.insert(0, '/Users/pauor506/Documents/PP_active_learning/')\n",
    "import functions as fun"
   ]
  },
  {
   "cell_type": "code",
   "execution_count": 3,
   "metadata": {},
   "outputs": [],
   "source": [
    "# Reading dataset (from https://www.kaggle.com/datasets/mathchi/diabetes-data-set?resource=download)\n",
    "diabetes = pd.read_csv('/Users/pauor506/Documents/PP_active_learning/BasicClassification_easydataset/diabetes.csv')\n",
    "\n",
    "diabetes['Glucose']=diabetes['Glucose'].replace(0,diabetes['Glucose'].mean())\n",
    "diabetes['BloodPressure']=diabetes['BloodPressure'].replace(0,diabetes['BloodPressure'].mean())\n",
    "diabetes['SkinThickness']=diabetes['SkinThickness'].replace(0,diabetes['SkinThickness'].mean())\n",
    "diabetes['Insulin']=diabetes['Insulin'].replace(0,diabetes['Insulin'].mean())\n",
    "diabetes['BMI']=diabetes['BMI'].replace(0,diabetes['BMI'].mean())\n",
    "\n",
    "# Creating X and y sets\n",
    "X_init = diabetes.drop(['Outcome'], axis=1).to_numpy() # I am using all the features for prediction\n",
    "X = StandardScaler().fit_transform(X_init) # Scale the data \n",
    "y = diabetes['Outcome'].to_numpy()\n",
    "X, y = SMOTE(random_state=8472352).fit_resample(X, y)\n"
   ]
  },
  {
   "cell_type": "code",
   "execution_count": 4,
   "metadata": {},
   "outputs": [],
   "source": [
    "# Models\n",
    "knn = KNeighborsClassifier(n_neighbors = 5)\n",
    "svmm = svm.SVC(random_state=0)\n",
    "ada_clf = AdaBoostClassifier(random_state=0) #DecisionTreeClassifier initialized with max_depth=1 and 50 trees\n",
    "\n",
    "models = [knn, svmm, ada_clf]"
   ]
  }
 ],
 "metadata": {
  "kernelspec": {
   "display_name": "Python 3.9.12 ('active-learning')",
   "language": "python",
   "name": "python3"
  },
  "language_info": {
   "codemirror_mode": {
    "name": "ipython",
    "version": 3
   },
   "file_extension": ".py",
   "mimetype": "text/x-python",
   "name": "python",
   "nbconvert_exporter": "python",
   "pygments_lexer": "ipython3",
   "version": "3.9.12"
  },
  "orig_nbformat": 4,
  "vscode": {
   "interpreter": {
    "hash": "03d2b1b9fd943f9be2cc0a2349c27205564b7dad01d7608d91d71d807bc757e9"
   }
  }
 },
 "nbformat": 4,
 "nbformat_minor": 2
}
