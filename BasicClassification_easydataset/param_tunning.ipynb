{
 "cells": [
  {
   "cell_type": "code",
   "execution_count": 1,
   "metadata": {},
   "outputs": [],
   "source": [
    "%load_ext autoreload\n",
    "%autoreload 2\n",
    "\n",
    "from pandas import read_excel\n",
    "import csv\n",
    "import pandas as pd\n",
    "import numpy as np\n",
    "import seaborn as sns\n",
    "import matplotlib.pyplot as plt\n",
    "\n",
    "from sklearn.model_selection import cross_val_score, KFold, train_test_split, StratifiedKFold, cross_validate\n",
    "from sklearn.metrics import confusion_matrix, mean_squared_error, classification_report, f1_score, mean_squared_log_error, recall_score, accuracy_score\n",
    "from sklearn.decomposition import PCA\n",
    "from sklearn.neighbors import KNeighborsClassifier\n",
    "from sklearn.linear_model import LinearRegression, Ridge, Lasso, LogisticRegression\n",
    "from sklearn.ensemble import RandomForestClassifier, AdaBoostClassifier, RandomForestRegressor, AdaBoostRegressor, BaggingRegressor\n",
    "from sklearn import svm, tree \n",
    "from sklearn.cluster import KMeans\n",
    "from sklearn.tree import DecisionTreeClassifier, DecisionTreeRegressor\n",
    "from sklearn.preprocessing import MinMaxScaler, StandardScaler\n",
    "\n",
    "from imblearn.over_sampling import SMOTE, ADASYN\n",
    "from imblearn.under_sampling import EditedNearestNeighbours, ClusterCentroids, RandomUnderSampler \n",
    "from collections import Counter\n",
    "\n",
    "import sys\n",
    "sys.path.insert(0, '/Users/pauor506/Documents/PP_active_learning/')\n",
    "import functions as fun"
   ]
  },
  {
   "cell_type": "code",
   "execution_count": 3,
   "metadata": {},
   "outputs": [],
   "source": [
    "# Reading dataset (from https://www.kaggle.com/datasets/mathchi/diabetes-data-set?resource=download)\n",
    "diabetes = pd.read_csv('/Users/pauor506/Documents/PP_active_learning/BasicClassification_easydataset/diabetes.csv')\n",
    "\n",
    "diabetes['Glucose']=diabetes['Glucose'].replace(0,diabetes['Glucose'].mean())\n",
    "diabetes['BloodPressure']=diabetes['BloodPressure'].replace(0,diabetes['BloodPressure'].mean())\n",
    "diabetes['SkinThickness']=diabetes['SkinThickness'].replace(0,diabetes['SkinThickness'].mean())\n",
    "diabetes['Insulin']=diabetes['Insulin'].replace(0,diabetes['Insulin'].mean())\n",
    "diabetes['BMI']=diabetes['BMI'].replace(0,diabetes['BMI'].mean())\n",
    "\n",
    "# Creating X and y sets\n",
    "X_init = diabetes.drop(['Outcome'], axis=1).to_numpy() # I am using all the features for prediction\n",
    "X = StandardScaler().fit_transform(X_init) # Scale the data \n",
    "y = diabetes['Outcome'].to_numpy()\n",
    "# Balancing dataset\n",
    "X, y = SMOTE(random_state=8472352).fit_resample(X, y)\n",
    "\n",
    "# Sets for training\n",
    "X_train, X_test, y_train, y_test = train_test_split(X, y, test_size=0.2, random_state=6752)\n"
   ]
  },
  {
   "cell_type": "code",
   "execution_count": 4,
   "metadata": {},
   "outputs": [],
   "source": [
    "# Models\n",
    "knn = KNeighborsClassifier(n_neighbors = 5)\n",
    "svmm = svm.SVC(random_state=0)\n",
    "ada_clf = AdaBoostClassifier(random_state=0) #DecisionTreeClassifier initialized with max_depth=1 and 50 trees\n",
    "\n",
    "models = [knn, svmm, ada_clf]"
   ]
  },
  {
   "cell_type": "code",
   "execution_count": null,
   "metadata": {},
   "outputs": [],
   "source": [
    "from sklearn.model_selection import RandomizedSearchCV\n",
    "\n",
    "sspace_knn = {'n_neighbors':[i for i in np.arange(5,10)], 'leaf_size':[i for i in np.arange(20,50,5)]}\n",
    "sspace_svmm = {'kernel': [\"poly\", \"rbf\", \"sigmoid\"], 'gamma': [1.0, 0.1, 1e-2], 'C': [1, 10, 30, 50, 80, 100]}\n",
    "sspace_ada = {'n_estimators': [10,30,50,70,100], 'learning_rate': [1.5, 1.0, 0.1, 0.01]}\n",
    "\n",
    "rnd_knn = RandomizedSearchCV(estimator=knn, param_grid=sspace_knn, scoring='accuracy', \n",
    "                       cv=10, return_train_score=True, random_state=0, n_jobs=-1)\n",
    "rnd_svmm = RandomizedSearchCV(estimator=svmm, param_grid=sspace_knn, scoring='accuracy', \n",
    "                       cv=10, return_train_score=True, random_state=0, n_jobs=-1)\n",
    "rnd_ada = RandomizedSearchCV(estimator=ada_clf, param_grid=sspace_knn, scoring='accuracy', \n",
    "                       cv=10, return_train_score=True, random_state=0, n_jobs=-1)"
   ]
  },
  {
   "cell_type": "code",
   "execution_count": null,
   "metadata": {},
   "outputs": [],
   "source": [
    "#Training and Prediction\n",
    "result_knn = rnd_knn.fit(X_train, y_train)\n",
    "resukt_svmm = rnd_svmm"
   ]
  }
 ],
 "metadata": {
  "kernelspec": {
   "display_name": "Python 3.9.12 ('active-learning')",
   "language": "python",
   "name": "python3"
  },
  "language_info": {
   "codemirror_mode": {
    "name": "ipython",
    "version": 3
   },
   "file_extension": ".py",
   "mimetype": "text/x-python",
   "name": "python",
   "nbconvert_exporter": "python",
   "pygments_lexer": "ipython3",
   "version": "3.9.12"
  },
  "orig_nbformat": 4,
  "vscode": {
   "interpreter": {
    "hash": "03d2b1b9fd943f9be2cc0a2349c27205564b7dad01d7608d91d71d807bc757e9"
   }
  }
 },
 "nbformat": 4,
 "nbformat_minor": 2
}
