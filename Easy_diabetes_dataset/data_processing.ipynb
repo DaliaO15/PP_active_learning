{
 "cells": [
  {
   "cell_type": "code",
   "execution_count": 1,
   "metadata": {},
   "outputs": [],
   "source": [
    "from pandas import read_excel\n",
    "import csv\n",
    "import pandas as pd\n",
    "import numpy as np\n",
    "import seaborn as sns\n",
    "import matplotlib.pyplot as plt\n",
    "\n",
    "from sklearn.model_selection import cross_val_score, KFold, train_test_split, StratifiedKFold\n",
    "from sklearn.metrics import confusion_matrix, mean_squared_error, classification_report, f1_score, mean_squared_log_error, recall_score, accuracy_score\n",
    "from sklearn.decomposition import PCA\n",
    "from sklearn.neighbors import KNeighborsClassifier\n",
    "from sklearn.linear_model import LinearRegression, Ridge, Lasso, LogisticRegression\n",
    "from sklearn.ensemble import RandomForestClassifier, AdaBoostClassifier, RandomForestRegressor, AdaBoostRegressor, BaggingRegressor\n",
    "from sklearn import svm, tree \n",
    "from sklearn.cluster import KMeans\n",
    "from sklearn.tree import DecisionTreeClassifier, DecisionTreeRegressor\n",
    "from sklearn.preprocessing import MinMaxScaler, StandardScaler"
   ]
  },
  {
   "cell_type": "code",
   "execution_count": 2,
   "metadata": {},
   "outputs": [],
   "source": [
    "# Reading dataset (from https://www.kaggle.com/datasets/mathchi/diabetes-data-set?resource=download)\n",
    "diabetes = pd.read_csv('/Users/pauor506/Documents/PP_active_learning/Easy_diabetes_dataset/diabetes.csv')"
   ]
  },
  {
   "cell_type": "markdown",
   "metadata": {},
   "source": [
    "#### Let's replaces the \"non-sense\" values with the mean"
   ]
  },
  {
   "cell_type": "code",
   "execution_count": 3,
   "metadata": {},
   "outputs": [
    {
     "data": {
      "text/html": [
       "<div>\n",
       "<style scoped>\n",
       "    .dataframe tbody tr th:only-of-type {\n",
       "        vertical-align: middle;\n",
       "    }\n",
       "\n",
       "    .dataframe tbody tr th {\n",
       "        vertical-align: top;\n",
       "    }\n",
       "\n",
       "    .dataframe thead th {\n",
       "        text-align: right;\n",
       "    }\n",
       "</style>\n",
       "<table border=\"1\" class=\"dataframe\">\n",
       "  <thead>\n",
       "    <tr style=\"text-align: right;\">\n",
       "      <th></th>\n",
       "      <th>Pregnancies</th>\n",
       "      <th>Glucose</th>\n",
       "      <th>BloodPressure</th>\n",
       "      <th>SkinThickness</th>\n",
       "      <th>Insulin</th>\n",
       "      <th>BMI</th>\n",
       "      <th>DiabetesPedigreeFunction</th>\n",
       "      <th>Age</th>\n",
       "      <th>Outcome</th>\n",
       "    </tr>\n",
       "  </thead>\n",
       "  <tbody>\n",
       "    <tr>\n",
       "      <th>0</th>\n",
       "      <td>6</td>\n",
       "      <td>148.0</td>\n",
       "      <td>72.0</td>\n",
       "      <td>35.000000</td>\n",
       "      <td>79.799479</td>\n",
       "      <td>33.6</td>\n",
       "      <td>0.627</td>\n",
       "      <td>50</td>\n",
       "      <td>1</td>\n",
       "    </tr>\n",
       "    <tr>\n",
       "      <th>1</th>\n",
       "      <td>1</td>\n",
       "      <td>85.0</td>\n",
       "      <td>66.0</td>\n",
       "      <td>29.000000</td>\n",
       "      <td>79.799479</td>\n",
       "      <td>26.6</td>\n",
       "      <td>0.351</td>\n",
       "      <td>31</td>\n",
       "      <td>0</td>\n",
       "    </tr>\n",
       "    <tr>\n",
       "      <th>2</th>\n",
       "      <td>8</td>\n",
       "      <td>183.0</td>\n",
       "      <td>64.0</td>\n",
       "      <td>20.536458</td>\n",
       "      <td>79.799479</td>\n",
       "      <td>23.3</td>\n",
       "      <td>0.672</td>\n",
       "      <td>32</td>\n",
       "      <td>1</td>\n",
       "    </tr>\n",
       "    <tr>\n",
       "      <th>3</th>\n",
       "      <td>1</td>\n",
       "      <td>89.0</td>\n",
       "      <td>66.0</td>\n",
       "      <td>23.000000</td>\n",
       "      <td>94.000000</td>\n",
       "      <td>28.1</td>\n",
       "      <td>0.167</td>\n",
       "      <td>21</td>\n",
       "      <td>0</td>\n",
       "    </tr>\n",
       "    <tr>\n",
       "      <th>4</th>\n",
       "      <td>0</td>\n",
       "      <td>137.0</td>\n",
       "      <td>40.0</td>\n",
       "      <td>35.000000</td>\n",
       "      <td>168.000000</td>\n",
       "      <td>43.1</td>\n",
       "      <td>2.288</td>\n",
       "      <td>33</td>\n",
       "      <td>1</td>\n",
       "    </tr>\n",
       "  </tbody>\n",
       "</table>\n",
       "</div>"
      ],
      "text/plain": [
       "   Pregnancies  Glucose  BloodPressure  SkinThickness     Insulin   BMI  \\\n",
       "0            6    148.0           72.0      35.000000   79.799479  33.6   \n",
       "1            1     85.0           66.0      29.000000   79.799479  26.6   \n",
       "2            8    183.0           64.0      20.536458   79.799479  23.3   \n",
       "3            1     89.0           66.0      23.000000   94.000000  28.1   \n",
       "4            0    137.0           40.0      35.000000  168.000000  43.1   \n",
       "\n",
       "   DiabetesPedigreeFunction  Age  Outcome  \n",
       "0                     0.627   50        1  \n",
       "1                     0.351   31        0  \n",
       "2                     0.672   32        1  \n",
       "3                     0.167   21        0  \n",
       "4                     2.288   33        1  "
      ]
     },
     "execution_count": 3,
     "metadata": {},
     "output_type": "execute_result"
    }
   ],
   "source": [
    "diabetes['Glucose']=diabetes['Glucose'].replace(0,diabetes['Glucose'].mean())\n",
    "diabetes['BloodPressure']=diabetes['BloodPressure'].replace(0,diabetes['BloodPressure'].mean())\n",
    "diabetes['SkinThickness']=diabetes['SkinThickness'].replace(0,diabetes['SkinThickness'].mean())\n",
    "diabetes['Insulin']=diabetes['Insulin'].replace(0,diabetes['Insulin'].mean())\n",
    "diabetes['BMI']=diabetes['BMI'].replace(0,diabetes['BMI'].mean())\n",
    "\n",
    "diabetes.head(5)"
   ]
  },
  {
   "cell_type": "markdown",
   "metadata": {},
   "source": [
    "## Version 1: using the default data set and train/trst split"
   ]
  },
  {
   "cell_type": "code",
   "execution_count": 4,
   "metadata": {},
   "outputs": [],
   "source": [
    "X = diabetes.drop(['Outcome'], axis=1).to_numpy() # I am using all the features for prediction\n",
    "y = diabetes['Outcome'].to_numpy()"
   ]
  },
  {
   "cell_type": "code",
   "execution_count": 5,
   "metadata": {},
   "outputs": [],
   "source": [
    "# Parameters for ML model\n",
    "test_size = 0.2\n",
    "n_neighbours = 3\n",
    "\n",
    "# Data for training and testing\n",
    "X_train, X_test, y_train, y_test = train_test_split(X, y, test_size=test_size, random_state=9827)\n",
    "\n",
    "# Models\n",
    "knn = KNeighborsClassifier(n_neighbors = n_neighbours)\n",
    "lrg = LogisticRegression(random_state=0, max_iter=200)\n",
    "rf = RandomForestClassifier(max_depth=3, random_state=0)\n",
    "svmm = svm.SVC(random_state=0)\n",
    "ada_clf = AdaBoostClassifier(random_state=0) #DecisionTreeClassifier initialized with max_depth=1 and 50 trees"
   ]
  },
  {
   "cell_type": "code",
   "execution_count": 6,
   "metadata": {},
   "outputs": [
    {
     "name": "stdout",
     "output_type": "stream",
     "text": [
      "The f1-scores of model KNeighborsClassifier(n_neighbors=3) is 0.581 and the accuracy is 0.747\n",
      "The f1-scores of model LogisticRegression(max_iter=200, random_state=0) is 0.659 and the accuracy is 0.805\n",
      "The f1-scores of model RandomForestClassifier(max_depth=3, random_state=0) is 0.525 and the accuracy is 0.753\n",
      "The f1-scores of model SVC(random_state=0) is 0.532 and the accuracy is 0.760\n",
      "The f1-scores of model AdaBoostClassifier(random_state=0) is 0.602 and the accuracy is 0.760\n"
     ]
    }
   ],
   "source": [
    "f1_scores, accuracies = [], []\n",
    "models = [knn, lrg, rf, svmm, ada_clf]\n",
    "\n",
    "for model in models:\n",
    "    model.fit(X_train, y_train)\n",
    "    y_pred = model.predict(X_test)\n",
    "    acc = accuracy_score(y_test, y_pred)\n",
    "    f1scr = f1_score(y_test, y_pred)\n",
    "    accuracies.append(acc)\n",
    "    f1_scores.append(f1scr)\n",
    "    print(\"The f1-scores of model {} is {:.3f} and the accuracy is {:.3f}\".format(model,f1scr,acc))\n"
   ]
  },
  {
   "cell_type": "code",
   "execution_count": 7,
   "metadata": {},
   "outputs": [
    {
     "data": {
      "text/plain": [
       "<function matplotlib.pyplot.show(close=None, block=None)>"
      ]
     },
     "execution_count": 7,
     "metadata": {},
     "output_type": "execute_result"
    },
    {
     "data": {
      "image/png": "[encoded data removed]",
      "text/plain": [
       "<Figure size 504x288 with 1 Axes>"
      ]
     },
     "metadata": {
      "needs_background": "light"
     },
     "output_type": "display_data"
    }
   ],
   "source": [
    "models_names =['knn', 'lrg', 'rf', 'svmm', 'ada_clf']\n",
    "\n",
    "fig, ax1, = plt.subplots(1,1,figsize=(7,4))\n",
    "ax1.scatter(np.arange(len(accuracies)), accuracies, marker = 'D', s=35, color='cadetblue')\n",
    "ax1.scatter(np.arange(len(f1_scores)), f1_scores, marker = 'o', s=55, color='slateblue')\n",
    "\n",
    "ax1.set_ylabel('F1-score/Accuracy', color = 'black', fontsize = 16)\n",
    "ax1.set_ylabel('Default models', color = 'black', fontsize = 16)\n",
    "ax1.legend(['Accuracy', 'F1-score'])\n",
    "plt.xticks(ticks=np.arange(0,5), labels=models_names)\n",
    "\n",
    "plt.show\n",
    "\n"
   ]
  },
  {
   "cell_type": "markdown",
   "metadata": {},
   "source": [
    "## Version 2: K-fold cross validation"
   ]
  },
  {
   "cell_type": "code",
   "execution_count": 18,
   "metadata": {},
   "outputs": [],
   "source": [
    "from sklearn.model_selection import cross_validate\n",
    "\n",
    "# Function to obtain scores from two different metrics\n",
    "def CV_multiple_metrics(model, _X, _y, _cv,):\n",
    "    metrics = ['accuracy', 'f1']\n",
    "    results = cross_validate(estimator = model, X =_X, y =_y, cv = _cv, \n",
    "                            scoring = metrics, return_train_score=True)\n",
    "    return [results['train_accuracy']], [results['train_accuracy'].mean()], [results['train_f1']], [results['train_f1'].mean()]\n",
    "\n",
    "# Training\n",
    "def train_x_modelList(models_list, _X, _y, _cv):\n",
    "    acc_cv_x_model = []\n",
    "    f1_cv_x_model = []\n",
    "    for model in models_list:\n",
    "        _, res_acc, _, res_f1 = CV_multiple_metrics(model, _X, _y, _cv)\n",
    "        acc_cv_x_model.append(res_acc)\n",
    "        f1_cv_x_model.append(res_f1)\n",
    "    \n",
    "    acc_cv_x_model = [item for sublist in acc_cv_x_model for item in sublist]\n",
    "    f1_cv_x_model = [item for sublist in f1_cv_x_model for item in sublist]\n",
    "\n",
    "    return acc_cv_x_model, f1_cv_x_model\n",
    "\n",
    "# This function plots two lists: accuracy and f1-scores. They must be represented as ONE poin per model\n",
    "def plotting(_models_names, _accuracies, _f1_scores, title):\n",
    "    fig, ax1, = plt.subplots(1,1,figsize=(7,6))\n",
    "    xx = np.arange(len(_accuracies))\n",
    "    ax1.scatter(xx, _accuracies, marker = 'D', s=35, color='cadetblue')\n",
    "    ax1.scatter(xx, _f1_scores, marker = 'o', s=55, color='slateblue')\n",
    "\n",
    "    ax1.set_ylabel('F1-score/Accuracy', color = 'black', fontsize = 16)\n",
    "    ax1.set_ylabel('Default models', color = 'black', fontsize = 16)\n",
    "    ax1.legend(['Accuracy', 'F1-score'])\n",
    "    ax1.set_title(title)\n",
    "\n",
    "    # Annotating points\n",
    "    for i, txt in enumerate([\"{0:0.2f}\".format(i) for i in _accuracies]):\n",
    "        ax1.annotate(txt, (xx[i], _accuracies[i]-0.015))\n",
    "\n",
    "    # Annotating points\n",
    "    for i, txt in enumerate([\"{0:0.2f}\".format(i) for i in _f1_scores]):\n",
    "        ax1.annotate(txt, (xx[i], _f1_scores[i]+0.015))\n",
    "\n",
    "    plt.xticks(ticks=np.arange(0,5), labels=models_names)\n",
    "\n",
    "    plt.show()"
   ]
  },
  {
   "cell_type": "code",
   "execution_count": 19,
   "metadata": {},
   "outputs": [
    {
     "data": {
      "image/png": "[encoded data removed]",
      "text/plain": [
       "<Figure size 504x432 with 1 Axes>"
      ]
     },
     "metadata": {
      "needs_background": "light"
     },
     "output_type": "display_data"
    }
   ],
   "source": [
    "# Training with KFold cross validation\n",
    "cv_number = 5\n",
    "\n",
    "kfold_validation=KFold(cv_number)\n",
    "acc_cv_x_model, f1_cv_x_model = train_x_modelList(models, X, y, kfold_validation)\n",
    "plotting(models_names, acc_cv_x_model, f1_cv_x_model, 'Cross validation')\n"
   ]
  },
  {
   "cell_type": "markdown",
   "metadata": {},
   "source": [
    "## Version 3: Stratified KFold cross validation"
   ]
  },
  {
   "cell_type": "code",
   "execution_count": 20,
   "metadata": {},
   "outputs": [
    {
     "data": {
      "image/png": "[encoded data removed]",
      "text/plain": [
       "<Figure size 504x432 with 1 Axes>"
      ]
     },
     "metadata": {
      "needs_background": "light"
     },
     "output_type": "display_data"
    }
   ],
   "source": [
    "from sklearn.model_selection import StratifiedKFold\n",
    "\n",
    "sk_fold=StratifiedKFold(n_splits = cv_number)\n",
    "\n",
    "acc_cv_x_model_str, f1_cv_x_model_str = train_x_modelList(models, X, y, sk_fold)\n",
    "plotting(models_names, acc_cv_x_model_str, f1_cv_x_model_str, 'Stratified cross validation')"
   ]
  },
  {
   "cell_type": "code",
   "execution_count": null,
   "metadata": {},
   "outputs": [],
   "source": []
  }
 ],
 "metadata": {
  "kernelspec": {
   "display_name": "Python 3.9.12 ('active-learning')",
   "language": "python",
   "name": "python3"
  },
  "language_info": {
   "codemirror_mode": {
    "name": "ipython",
    "version": 3
   },
   "file_extension": ".py",
   "mimetype": "text/x-python",
   "name": "python",
   "nbconvert_exporter": "python",
   "pygments_lexer": "ipython3",
   "version": "3.9.12"
  },
  "orig_nbformat": 4,
  "vscode": {
   "interpreter": {
    "hash": "03d2b1b9fd943f9be2cc0a2349c27205564b7dad01d7608d91d71d807bc757e9"
   }
  }
 },
 "nbformat": 4,
 "nbformat_minor": 2
}
