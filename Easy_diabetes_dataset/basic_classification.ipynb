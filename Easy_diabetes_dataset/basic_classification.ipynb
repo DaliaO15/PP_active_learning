{
 "cells": [
  {
   "cell_type": "code",
   "execution_count": 5,
   "metadata": {},
   "outputs": [],
   "source": [
    "from pandas import read_excel\n",
    "import csv\n",
    "import pandas as pd\n",
    "import numpy as np\n",
    "import seaborn as sns\n",
    "import matplotlib.pyplot as plt\n",
    "\n",
    "from sklearn.model_selection import cross_val_score, KFold, train_test_split, StratifiedKFold\n",
    "from sklearn.metrics import confusion_matrix, mean_squared_error, classification_report, f1_score, mean_squared_log_error, recall_score, accuracy_score\n",
    "from sklearn.decomposition import PCA\n",
    "from sklearn.neighbors import KNeighborsClassifier\n",
    "from sklearn.linear_model import LinearRegression, Ridge, Lasso, LogisticRegression\n",
    "from sklearn.ensemble import RandomForestClassifier, AdaBoostClassifier, RandomForestRegressor, AdaBoostRegressor, BaggingRegressor\n",
    "from sklearn import svm, tree \n",
    "from sklearn.cluster import KMeans\n",
    "from sklearn.tree import DecisionTreeClassifier, DecisionTreeRegressor\n",
    "from sklearn.preprocessing import MinMaxScaler, StandardScaler"
   ]
  },
  {
   "cell_type": "code",
   "execution_count": 6,
   "metadata": {},
   "outputs": [],
   "source": [
    "# Reading dataset (from https://www.kaggle.com/datasets/mathchi/diabetes-data-set?resource=download)\n",
    "diabetes = pd.read_csv('/Users/pauor506/Documents/PP_active_learning/Easy_diabetes_dataset/diabetes.csv')"
   ]
  },
  {
   "cell_type": "markdown",
   "metadata": {},
   "source": [
    "#### Let's replaces the \"non-sense\" values with the mean"
   ]
  },
  {
   "cell_type": "code",
   "execution_count": 7,
   "metadata": {},
   "outputs": [
    {
     "data": {
      "text/html": [
       "<div>\n",
       "<style scoped>\n",
       "    .dataframe tbody tr th:only-of-type {\n",
       "        vertical-align: middle;\n",
       "    }\n",
       "\n",
       "    .dataframe tbody tr th {\n",
       "        vertical-align: top;\n",
       "    }\n",
       "\n",
       "    .dataframe thead th {\n",
       "        text-align: right;\n",
       "    }\n",
       "</style>\n",
       "<table border=\"1\" class=\"dataframe\">\n",
       "  <thead>\n",
       "    <tr style=\"text-align: right;\">\n",
       "      <th></th>\n",
       "      <th>Pregnancies</th>\n",
       "      <th>Glucose</th>\n",
       "      <th>BloodPressure</th>\n",
       "      <th>SkinThickness</th>\n",
       "      <th>Insulin</th>\n",
       "      <th>BMI</th>\n",
       "      <th>DiabetesPedigreeFunction</th>\n",
       "      <th>Age</th>\n",
       "      <th>Outcome</th>\n",
       "    </tr>\n",
       "  </thead>\n",
       "  <tbody>\n",
       "    <tr>\n",
       "      <th>0</th>\n",
       "      <td>6</td>\n",
       "      <td>148.0</td>\n",
       "      <td>72.0</td>\n",
       "      <td>35.000000</td>\n",
       "      <td>79.799479</td>\n",
       "      <td>33.6</td>\n",
       "      <td>0.627</td>\n",
       "      <td>50</td>\n",
       "      <td>1</td>\n",
       "    </tr>\n",
       "    <tr>\n",
       "      <th>1</th>\n",
       "      <td>1</td>\n",
       "      <td>85.0</td>\n",
       "      <td>66.0</td>\n",
       "      <td>29.000000</td>\n",
       "      <td>79.799479</td>\n",
       "      <td>26.6</td>\n",
       "      <td>0.351</td>\n",
       "      <td>31</td>\n",
       "      <td>0</td>\n",
       "    </tr>\n",
       "    <tr>\n",
       "      <th>2</th>\n",
       "      <td>8</td>\n",
       "      <td>183.0</td>\n",
       "      <td>64.0</td>\n",
       "      <td>20.536458</td>\n",
       "      <td>79.799479</td>\n",
       "      <td>23.3</td>\n",
       "      <td>0.672</td>\n",
       "      <td>32</td>\n",
       "      <td>1</td>\n",
       "    </tr>\n",
       "    <tr>\n",
       "      <th>3</th>\n",
       "      <td>1</td>\n",
       "      <td>89.0</td>\n",
       "      <td>66.0</td>\n",
       "      <td>23.000000</td>\n",
       "      <td>94.000000</td>\n",
       "      <td>28.1</td>\n",
       "      <td>0.167</td>\n",
       "      <td>21</td>\n",
       "      <td>0</td>\n",
       "    </tr>\n",
       "    <tr>\n",
       "      <th>4</th>\n",
       "      <td>0</td>\n",
       "      <td>137.0</td>\n",
       "      <td>40.0</td>\n",
       "      <td>35.000000</td>\n",
       "      <td>168.000000</td>\n",
       "      <td>43.1</td>\n",
       "      <td>2.288</td>\n",
       "      <td>33</td>\n",
       "      <td>1</td>\n",
       "    </tr>\n",
       "  </tbody>\n",
       "</table>\n",
       "</div>"
      ],
      "text/plain": [
       "   Pregnancies  Glucose  BloodPressure  SkinThickness     Insulin   BMI  \\\n",
       "0            6    148.0           72.0      35.000000   79.799479  33.6   \n",
       "1            1     85.0           66.0      29.000000   79.799479  26.6   \n",
       "2            8    183.0           64.0      20.536458   79.799479  23.3   \n",
       "3            1     89.0           66.0      23.000000   94.000000  28.1   \n",
       "4            0    137.0           40.0      35.000000  168.000000  43.1   \n",
       "\n",
       "   DiabetesPedigreeFunction  Age  Outcome  \n",
       "0                     0.627   50        1  \n",
       "1                     0.351   31        0  \n",
       "2                     0.672   32        1  \n",
       "3                     0.167   21        0  \n",
       "4                     2.288   33        1  "
      ]
     },
     "execution_count": 7,
     "metadata": {},
     "output_type": "execute_result"
    }
   ],
   "source": [
    "diabetes['Glucose']=diabetes['Glucose'].replace(0,diabetes['Glucose'].mean())\n",
    "diabetes['BloodPressure']=diabetes['BloodPressure'].replace(0,diabetes['BloodPressure'].mean())\n",
    "diabetes['SkinThickness']=diabetes['SkinThickness'].replace(0,diabetes['SkinThickness'].mean())\n",
    "diabetes['Insulin']=diabetes['Insulin'].replace(0,diabetes['Insulin'].mean())\n",
    "diabetes['BMI']=diabetes['BMI'].replace(0,diabetes['BMI'].mean())\n",
    "\n",
    "diabetes.head(5)"
   ]
  },
  {
   "cell_type": "markdown",
   "metadata": {},
   "source": [
    "## 1:Min-max scaling"
   ]
  },
  {
   "cell_type": "code",
   "execution_count": 8,
   "metadata": {},
   "outputs": [],
   "source": [
    "# Creating X and y sets\n",
    "X_init = diabetes.drop(['Outcome'], axis=1).to_numpy() # I am using all the features for prediction\n",
    "y = diabetes['Outcome'].to_numpy()"
   ]
  },
  {
   "cell_type": "code",
   "execution_count": 9,
   "metadata": {},
   "outputs": [],
   "source": [
    "# Scaling features with min-max scaling\n",
    "X_mm = MinMaxScaler(feature_range=(0,1)).fit_transform(X_init)\n",
    "\n",
    "# Scaled feature with standardization\n",
    "X_std = StandardScaler().fit_transform(X_init)"
   ]
  },
  {
   "cell_type": "markdown",
   "metadata": {},
   "source": [
    "### 1.1: Using the default data set and train/trst split"
   ]
  },
  {
   "cell_type": "code",
   "execution_count": 10,
   "metadata": {},
   "outputs": [],
   "source": [
    "# Parameters for ML model\n",
    "test_size = 0.2\n",
    "n_neighbours = 3\n",
    "\n",
    "# Data for training and testing\n",
    "X_train_mm, X_test_mm, y_train, y_test = train_test_split(X_mm, y, test_size=test_size, random_state=9827)\n",
    "X_train_std, X_test_std, y_train, y_test = train_test_split(X_std, y, test_size=test_size, random_state=9827)\n",
    "\n",
    "\n",
    "# Models\n",
    "knn = KNeighborsClassifier(n_neighbors = n_neighbours)\n",
    "lrg = LogisticRegression(random_state=0, max_iter=200)\n",
    "rf = RandomForestClassifier(max_depth=3, random_state=0)\n",
    "svmm = svm.SVC(random_state=0)\n",
    "ada_clf = AdaBoostClassifier(random_state=0) #DecisionTreeClassifier initialized with max_depth=1 and 50 trees"
   ]
  },
  {
   "cell_type": "code",
   "execution_count": 14,
   "metadata": {},
   "outputs": [],
   "source": [
    "# Basic ML training given a LIST of models\n",
    "def basic_training_by_model_list(_X_train, _X_test, _y_train, _y_test, _models_list):\n",
    "    #To save information\n",
    "    f1_scores, accuracies = [], []\n",
    "    # Loop over every model\n",
    "    for model in _models_list:\n",
    "        # Training\n",
    "        model.fit(_X_train,_y_train)\n",
    "        y_pred = model.predict(_X_test)\n",
    "        # Evaluating\n",
    "        acc = accuracy_score(_y_test, y_pred)\n",
    "        f1scr = f1_score(_y_test, y_pred)\n",
    "        accuracies.append(acc)\n",
    "        f1_scores.append(f1scr)\n",
    "        # Showing results\n",
    "        #print(\"Model {} -- F1-score {:.3f} , accuracy is {:.3f}\".format(model,f1scr,acc))\n",
    "    #print('\\n')\n",
    "    return accuracies, f1_scores\n",
    "\n",
    "def annotate_points(ax, list_points, move = False):\n",
    "    if move:\n",
    "        xx = np.arange(1,len(list_points)*2,2)\n",
    "    else:\n",
    "        xx = np.arange(0,len(list_points)*2,2)\n",
    "\n",
    "    # Annotating points\n",
    "    for i, txt in enumerate([\"{0:0.2f}\".format(i) for i in list_points]):\n",
    "        ax.annotate(txt, (xx[i], list_points[i]-0.015))\n",
    "    return ax\n",
    "\n",
    "def plot_score_comparision(acc1, f1scr1, acc2, f1scr2, list_models_names):\n",
    "\n",
    "    fig, ax1, = plt.subplots(1,1,figsize=(7,5))\n",
    "    ax1.scatter(np.arange(0,len(acc1)*2, 2), acc1, marker = 'D', s=35, color='cadetblue')\n",
    "    ax1.scatter(np.arange(0, len(f1scr1)*2, 2), f1scr1, marker = 'x', s=55, color='slateblue')\n",
    "    ax1.scatter(np.arange(1, len(acc2*2), 2), acc2, marker = 'o', s=35, color='palegreen')\n",
    "    ax1.scatter(np.arange(1, len(f1scr2)*2, 2), f1scr2, marker = '*', s=55, color='darkblue')\n",
    "\n",
    "    ax1 = annotate_points(ax1, acc1)\n",
    "    ax1 = annotate_points(ax1, f1scr1)\n",
    "    ax1 = annotate_points(ax1, acc2, move= True)\n",
    "    ax1 = annotate_points(ax1, f1scr2, move = True)\n",
    "\n",
    "    ax1.set_ylabel('F1-score/Accuracy', color = 'black', fontsize = 16)\n",
    "    ax1.set_xlabel('Default models', color = 'black', fontsize = 16)\n",
    "    ax1.legend(['Accu min-max', 'F1-sco min-max', 'Accu std', 'F1-sco std'])\n",
    "    major_ticks = np.arange(0.5,10,2)\n",
    "    minor_ticks = np.arange(-0.5,10,2)\n",
    "    ax1.set_xticks(major_ticks, labels = list_models_names)\n",
    "    ax1.set_xticks(minor_ticks, minor = True)\n",
    "    plt.grid(which='minor', axis='x', alpha = 0.5)\n",
    "    \n",
    "    plt.show\n"
   ]
  },
  {
   "cell_type": "code",
   "execution_count": 12,
   "metadata": {},
   "outputs": [],
   "source": [
    "# Training basic models\n",
    "models = [knn, lrg, rf, svmm, ada_clf]\n",
    "accuracies_mm, f1_scores_mm= basic_training_by_model_list( X_train_mm, X_test_mm, y_train, y_test, models)\n",
    "accuracies_std, f1_scores_std = basic_training_by_model_list( X_train_std, X_test_std, y_train, y_test, models)"
   ]
  },
  {
   "cell_type": "code",
   "execution_count": 15,
   "metadata": {},
   "outputs": [
    {
     "data": {
      "image/png": "[encoded data removed]",
      "text/plain": [
       "<Figure size 504x360 with 1 Axes>"
      ]
     },
     "metadata": {
      "needs_background": "light"
     },
     "output_type": "display_data"
    }
   ],
   "source": [
    "models_names =['knn', 'lrg', 'rf','svmm', 'ada_clf']\n",
    "plot_score_comparision(accuracies_mm, f1_scores_mm, accuracies_std, f1_scores_std, models_names)"
   ]
  },
  {
   "cell_type": "markdown",
   "metadata": {},
   "source": [
    "### 1.2: K-fold cross validation"
   ]
  },
  {
   "cell_type": "code",
   "execution_count": null,
   "metadata": {},
   "outputs": [],
   "source": [
    "from sklearn.model_selection import cross_validate\n",
    "\n",
    "# Function to obtain scores from two different metrics\n",
    "def CV_multiple_metrics(model, _X, _y, _cv,):\n",
    "    metrics = ['accuracy', 'f1']\n",
    "    results = cross_validate(estimator = model, X =_X, y =_y, cv = _cv, \n",
    "                            scoring = metrics, return_train_score=True)\n",
    "    return [results['train_accuracy']], [results['train_accuracy'].mean()], [results['train_f1']], [results['train_f1'].mean()]\n",
    "\n",
    "# Training\n",
    "def train_x_modelList(models_list, _X, _y, _cv):\n",
    "    acc_cv_x_model = []\n",
    "    f1_cv_x_model = []\n",
    "    for model in models_list:\n",
    "        _, res_acc, _, res_f1 = CV_multiple_metrics(model, _X, _y, _cv)\n",
    "        acc_cv_x_model.append(res_acc)\n",
    "        f1_cv_x_model.append(res_f1)\n",
    "    \n",
    "    acc_cv_x_model = [item for sublist in acc_cv_x_model for item in sublist]\n",
    "    f1_cv_x_model = [item for sublist in f1_cv_x_model for item in sublist]\n",
    "\n",
    "    return acc_cv_x_model, f1_cv_x_model\n",
    "\n",
    "# This function plots two lists: accuracy and f1-scores. They must be represented as ONE poin per model\n",
    "def plotting(_models_names, _accuracies, _f1_scores, title):\n",
    "    fig, ax1, = plt.subplots(1,1,figsize=(7,6))\n",
    "    xx = np.arange(len(_accuracies))\n",
    "    ax1.scatter(xx, _accuracies, marker = 'D', s=35, color='cadetblue')\n",
    "    ax1.scatter(xx, _f1_scores, marker = 'o', s=55, color='slateblue')\n",
    "\n",
    "    ax1.set_ylabel('F1-score/Accuracy', color = 'black', fontsize = 16)\n",
    "    ax1.set_ylabel('Default models', color = 'black', fontsize = 16)\n",
    "    ax1.legend(['Accuracy', 'F1-score'])\n",
    "    ax1.set_title(title)\n",
    "\n",
    "    # Annotating points\n",
    "    for i, txt in enumerate([\"{0:0.2f}\".format(i) for i in _accuracies]):\n",
    "        ax1.annotate(txt, (xx[i], _accuracies[i]-0.015))\n",
    "\n",
    "    # Annotating points\n",
    "    for i, txt in enumerate([\"{0:0.2f}\".format(i) for i in _f1_scores]):\n",
    "        ax1.annotate(txt, (xx[i], _f1_scores[i]+0.015))\n",
    "\n",
    "    plt.xticks(ticks=np.arange(0,5), labels=models_names)\n",
    "\n",
    "    plt.show()"
   ]
  },
  {
   "cell_type": "code",
   "execution_count": null,
   "metadata": {},
   "outputs": [],
   "source": [
    "# Training with KFold cross validation\n",
    "cv_number = 5\n",
    "\n",
    "kfold_validation=KFold(cv_number)\n",
    "acc_cv_x_model, f1_cv_x_model = train_x_modelList(models, X_mm, y, kfold_validation)\n",
    "plotting(models_names, acc_cv_x_model, f1_cv_x_model, 'Cross validation')\n"
   ]
  },
  {
   "cell_type": "markdown",
   "metadata": {},
   "source": [
    "### 1.3: Stratified KFold cross validation"
   ]
  },
  {
   "cell_type": "code",
   "execution_count": null,
   "metadata": {},
   "outputs": [],
   "source": [
    "from sklearn.model_selection import StratifiedKFold\n",
    "\n",
    "sk_fold=StratifiedKFold(n_splits = cv_number)\n",
    "\n",
    "acc_cv_x_model_str, f1_cv_x_model_str = train_x_modelList(models, X_mm, y, sk_fold)\n",
    "plotting(models_names, acc_cv_x_model_str, f1_cv_x_model_str, 'Stratified cross validation')"
   ]
  },
  {
   "cell_type": "markdown",
   "metadata": {},
   "source": []
  }
 ],
 "metadata": {
  "kernelspec": {
   "display_name": "Python 3.9.12 ('active-learning')",
   "language": "python",
   "name": "python3"
  },
  "language_info": {
   "codemirror_mode": {
    "name": "ipython",
    "version": 3
   },
   "file_extension": ".py",
   "mimetype": "text/x-python",
   "name": "python",
   "nbconvert_exporter": "python",
   "pygments_lexer": "ipython3",
   "version": "3.9.12"
  },
  "orig_nbformat": 4,
  "vscode": {
   "interpreter": {
    "hash": "03d2b1b9fd943f9be2cc0a2349c27205564b7dad01d7608d91d71d807bc757e9"
   }
  }
 },
 "nbformat": 4,
 "nbformat_minor": 2
}
